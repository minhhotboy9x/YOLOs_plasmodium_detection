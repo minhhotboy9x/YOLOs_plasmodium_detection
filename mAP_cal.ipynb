{
 "cells": [
  {
   "cell_type": "code",
   "execution_count": 1,
   "id": "4f906fc7",
   "metadata": {},
   "outputs": [],
   "source": [
    "from mean_average_precision import MetricBuilder\n",
    "import os\n",
    "import numpy as np\n",
    "import glob\n",
    "\n"
   ]
  },
  {
   "cell_type": "code",
   "execution_count": 10,
   "id": "3984bdec",
   "metadata": {},
   "outputs": [
    {
     "name": "stdout",
     "output_type": "stream",
     "text": [
      "Number of ground truth files: 75\n",
      "['map_2d']\n"
     ]
    },
    {
     "data": {
      "text/plain": [
       "dict_keys([0.5, 0.55, 0.6000000000000001, 0.6500000000000001, 0.7000000000000002, 0.7500000000000002, 0.8000000000000003, 0.8500000000000003, 0.9000000000000004, 0.9500000000000004, 'mAP'])"
      ]
     },
     "execution_count": 10,
     "metadata": {},
     "output_type": "execute_result"
    }
   ],
   "source": [
    "# Đường dẫn đến ground truth và prediction\n",
    "gt_dir = \"datasets/v2_malaria_PA7_5_class/test/labels/\"\n",
    "pred_dir = \"runs/detect/val/labels/\"\n",
    "\n",
    "img_width = 640\n",
    "img_height = 640\n",
    "\n",
    "# Danh sách file\n",
    "label_files = sorted(glob.glob(gt_dir + \"*.txt\"))\n",
    "pred_files = sorted(glob.glob(pred_dir + \"*.txt\"))\n",
    "\n",
    "print(f\"Number of ground truth files: {len(label_files)}\")\n",
    "\n",
    "# Metric (dùng cho object detection)\n",
    "metric_fn = MetricBuilder.build_evaluation_metric(\"map_2d\", async_mode=True, num_classes=5)\n",
    "\n",
    "print(MetricBuilder.get_metrics_list())\n",
    "\n",
    "for label_file, pred_file in zip(label_files, pred_files):\n",
    "    # Lấy tên ảnh (không đuôi)\n",
    "    image_id = os.path.basename(label_file).replace(\".txt\", \"\")\n",
    "\n",
    "    # Đọc ground truth\n",
    "    gts = []\n",
    "    with open(label_file, \"r\") as f:\n",
    "        for line in f:\n",
    "            cls, x, y, w, h = map(float, line.strip().split())\n",
    "            xmin = (x - w / 2) * img_width\n",
    "            xmax = (x + w / 2) * img_width\n",
    "            ymin = (y - h / 2) * img_height\n",
    "            ymax = (y + h / 2) * img_height\n",
    "            gts.append([xmin, ymin, xmax, ymax, int(cls), 0, 0])  # 0=difficult, 0=crowd\n",
    "\n",
    "    # Đọc prediction\n",
    "    preds = []\n",
    "    with open(pred_file, \"r\") as f:\n",
    "        for line in f:\n",
    "            cls, x, y, w, h, conf = map(float, line.strip().split())\n",
    "            xmin = (x - w / 2) * img_width\n",
    "            xmax = (x + w / 2) * img_width\n",
    "            ymin = (y - h / 2) * img_height\n",
    "            ymax = (y + h / 2) * img_height\n",
    "            preds.append([xmin, ymin, xmax, ymax, int(cls), conf])\n",
    "    gts = np.array(gts)\n",
    "    preds = np.array(preds)\n",
    "    # Update metric\n",
    "    # if preds and gts:\n",
    "    metric_fn.add(preds, gts)\n",
    "\n",
    "# Tính mAP\n",
    "res = metric_fn.value(iou_thresholds=np.arange(0.5, 1.0, 0.05), \n",
    "                recall_thresholds=np.arange(0., 1.01, 0.01), \n",
    "                mpolicy='greedy')\n",
    "res.keys()\n"
   ]
  },
  {
   "cell_type": "code",
   "execution_count": 13,
   "id": "5a9af1ec",
   "metadata": {},
   "outputs": [
    {
     "data": {
      "text/plain": [
       "0.7239159"
      ]
     },
     "execution_count": 13,
     "metadata": {},
     "output_type": "execute_result"
    }
   ],
   "source": [
    "res['mAP']"
   ]
  },
  {
   "cell_type": "code",
   "execution_count": 8,
   "id": "42d2ef4c",
   "metadata": {},
   "outputs": [
    {
     "data": {
      "text/plain": [
       "[{'1': <globox.evaluation.EvaluationItem at 0x26f49c4d440>,\n",
       "  '2': <globox.evaluation.EvaluationItem at 0x26f4a05fab0>,\n",
       "  '4': <globox.evaluation.EvaluationItem at 0x26f49deaf20>,\n",
       "  '3': <globox.evaluation.EvaluationItem at 0x26f49deade0>,\n",
       "  '0': <globox.evaluation.EvaluationItem at 0x26f281d4a40>},\n",
       " {'1': <globox.evaluation.EvaluationItem at 0x26f49abb8d0>,\n",
       "  '2': <globox.evaluation.EvaluationItem at 0x26f49ab5800>,\n",
       "  '4': <globox.evaluation.EvaluationItem at 0x26f49a19620>,\n",
       "  '3': <globox.evaluation.EvaluationItem at 0x26f2818f600>,\n",
       "  '0': <globox.evaluation.EvaluationItem at 0x26f49a3f830>},\n",
       " {'1': <globox.evaluation.EvaluationItem at 0x26f49a71350>,\n",
       "  '2': <globox.evaluation.EvaluationItem at 0x26f49a71b70>,\n",
       "  '4': <globox.evaluation.EvaluationItem at 0x26f49a71bc0>,\n",
       "  '3': <globox.evaluation.EvaluationItem at 0x26f49a71c10>,\n",
       "  '0': <globox.evaluation.EvaluationItem at 0x26f49a71c60>},\n",
       " {'1': <globox.evaluation.EvaluationItem at 0x26f49a71d00>,\n",
       "  '2': <globox.evaluation.EvaluationItem at 0x26f49a71d50>,\n",
       "  '4': <globox.evaluation.EvaluationItem at 0x26f49a71da0>,\n",
       "  '3': <globox.evaluation.EvaluationItem at 0x26f49a71df0>,\n",
       "  '0': <globox.evaluation.EvaluationItem at 0x26f49a71e40>},\n",
       " {'1': <globox.evaluation.EvaluationItem at 0x26f49a71ee0>,\n",
       "  '2': <globox.evaluation.EvaluationItem at 0x26f49a71f30>,\n",
       "  '4': <globox.evaluation.EvaluationItem at 0x26f49a71f80>,\n",
       "  '3': <globox.evaluation.EvaluationItem at 0x26f49a71fd0>,\n",
       "  '0': <globox.evaluation.EvaluationItem at 0x26f49a72020>},\n",
       " {'1': <globox.evaluation.EvaluationItem at 0x26f49a720c0>,\n",
       "  '2': <globox.evaluation.EvaluationItem at 0x26f49a72110>,\n",
       "  '4': <globox.evaluation.EvaluationItem at 0x26f49a72160>,\n",
       "  '3': <globox.evaluation.EvaluationItem at 0x26f49a721b0>,\n",
       "  '0': <globox.evaluation.EvaluationItem at 0x26f49a72200>},\n",
       " {'1': <globox.evaluation.EvaluationItem at 0x26f49a722a0>,\n",
       "  '2': <globox.evaluation.EvaluationItem at 0x26f49a722f0>,\n",
       "  '4': <globox.evaluation.EvaluationItem at 0x26f49a72340>,\n",
       "  '3': <globox.evaluation.EvaluationItem at 0x26f49a72390>,\n",
       "  '0': <globox.evaluation.EvaluationItem at 0x26f49a723e0>},\n",
       " {'1': <globox.evaluation.EvaluationItem at 0x26f49c37d30>,\n",
       "  '2': <globox.evaluation.EvaluationItem at 0x26f49a72430>,\n",
       "  '4': <globox.evaluation.EvaluationItem at 0x26f49a71cb0>,\n",
       "  '3': <globox.evaluation.EvaluationItem at 0x26f49a72480>,\n",
       "  '0': <globox.evaluation.EvaluationItem at 0x26f49a724d0>},\n",
       " {'1': <globox.evaluation.EvaluationItem at 0x26f49a72570>,\n",
       "  '2': <globox.evaluation.EvaluationItem at 0x26f49a725c0>,\n",
       "  '4': <globox.evaluation.EvaluationItem at 0x26f49a72610>,\n",
       "  '3': <globox.evaluation.EvaluationItem at 0x26f49a72660>,\n",
       "  '0': <globox.evaluation.EvaluationItem at 0x26f49a726b0>},\n",
       " {'1': <globox.evaluation.EvaluationItem at 0x26f49a72750>,\n",
       "  '2': <globox.evaluation.EvaluationItem at 0x26f49a727a0>,\n",
       "  '4': <globox.evaluation.EvaluationItem at 0x26f49a727f0>,\n",
       "  '3': <globox.evaluation.EvaluationItem at 0x26f49a72840>,\n",
       "  '0': <globox.evaluation.EvaluationItem at 0x26f49a72890>}]"
      ]
     },
     "execution_count": 8,
     "metadata": {},
     "output_type": "execute_result"
    }
   ],
   "source": [
    "from globox import AnnotationSet, BoxFormat, COCOEvaluator\n",
    "\n",
    "IMG_DIR = \"datasets/v2_malaria_PA7_5_class/test/images/\"\n",
    "GT_DIR = \"datasets/v2_malaria_PA7_5_class/test/labels/\"\n",
    "PRED_DIR = \"runs/detect/val3/labels/\"\n",
    "\n",
    "annotations_gt = AnnotationSet.from_yolo_v5(\n",
    "    folder=GT_DIR,              # labels\n",
    "    image_folder=IMG_DIR        # images\n",
    ")\n",
    "\n",
    "annotations_pred = AnnotationSet.from_yolo_v5(\n",
    "    folder=PRED_DIR,            # prediction labels with confidence\n",
    "    image_folder=IMG_DIR\n",
    ")\n",
    "\n",
    "evaluator = COCOEvaluator(\n",
    "    ground_truths=annotations_gt, \n",
    "    predictions=annotations_pred\n",
    ")\n",
    "\n",
    "evaluations = [\n",
    "    evaluator.evaluate(\n",
    "        iou_threshold=t, max_detections=300, size_range=evaluator.ALL_RANGE\n",
    "    )\n",
    "    for t in evaluator.AP_THRESHOLDS\n",
    "]\n",
    "\n",
    "evaluations"
   ]
  },
  {
   "cell_type": "code",
   "execution_count": 9,
   "id": "c30cf0cb",
   "metadata": {},
   "outputs": [
    {
     "name": "stdout",
     "output_type": "stream",
     "text": [
      "1: 0.4368\n",
      "2: 0.8376\n",
      "4: 0.9872\n",
      "3: 0.9208\n",
      "0: 0.7051\n"
     ]
    },
    {
     "data": {
      "text/plain": [
       "0.7774959651303993"
      ]
     },
     "execution_count": 9,
     "metadata": {},
     "output_type": "execute_result"
    }
   ],
   "source": [
    "mAP = 0\n",
    "for key, value in evaluations[0].items():\n",
    "    mAP += value.ap\n",
    "    print(f\"{key}: {value.ap:.4f}\")\n",
    "mAP /= len(evaluations[0])\n",
    "mAP"
   ]
  },
  {
   "cell_type": "code",
   "execution_count": null,
   "id": "ec746b4f",
   "metadata": {},
   "outputs": [
    {
     "data": {
      "text/html": [
       "<pre style=\"white-space:pre;overflow-x:auto;line-height:normal;font-family:Menlo,'DejaVu Sans Mono',consolas,'Courier New',monospace\"><span style=\"font-style: italic\">                                           COCO Evaluation                                            </span>\n",
       "┏━━━━━━━┳━━━━━━━━━━┳━━━━━━━┳━━━━━━━┳━━━━━━┳━━━━━━┳━━━━━━┳━━━━━━┳━━━━━━━┳━━━━━━━━┳━━━━━━┳━━━━━━┳━━━━━━┓\n",
       "┃<span style=\"font-weight: bold\"> Label </span>┃<span style=\"color: #800000; text-decoration-color: #800000; font-weight: bold\"> AP 50:95 </span>┃<span style=\"color: #800000; text-decoration-color: #800000; font-weight: bold\"> AP 50 </span>┃<span style=\"color: #800000; text-decoration-color: #800000; font-weight: bold\"> AP 75 </span>┃<span style=\"color: #800080; text-decoration-color: #800080; font-weight: bold\"> AP S </span>┃<span style=\"color: #800080; text-decoration-color: #800080; font-weight: bold\"> AP M </span>┃<span style=\"color: #800080; text-decoration-color: #800080; font-weight: bold\"> AP L </span>┃<span style=\"color: #000080; text-decoration-color: #000080; font-weight: bold\"> AR 1 </span>┃<span style=\"color: #000080; text-decoration-color: #000080; font-weight: bold\"> AR 10 </span>┃<span style=\"color: #000080; text-decoration-color: #000080; font-weight: bold\"> AR 100 </span>┃<span style=\"color: #008000; text-decoration-color: #008000; font-weight: bold\"> AR S </span>┃<span style=\"color: #008000; text-decoration-color: #008000; font-weight: bold\"> AR M </span>┃<span style=\"color: #008000; text-decoration-color: #008000; font-weight: bold\"> AR L </span>┃\n",
       "┡━━━━━━━╇━━━━━━━━━━╇━━━━━━━╇━━━━━━━╇━━━━━━╇━━━━━━╇━━━━━━╇━━━━━━╇━━━━━━━╇━━━━━━━━╇━━━━━━╇━━━━━━╇━━━━━━┩\n",
       "├───────┼──────────┼───────┼───────┼──────┼──────┼──────┼──────┼───────┼────────┼──────┼──────┼──────┤\n",
       "│<span style=\"font-weight: bold\"> Total </span>│<span style=\"color: #800000; text-decoration-color: #800000; font-weight: bold\">     nan% </span>│<span style=\"color: #800000; text-decoration-color: #800000; font-weight: bold\">  nan% </span>│<span style=\"color: #800000; text-decoration-color: #800000; font-weight: bold\">  nan% </span>│<span style=\"color: #800080; text-decoration-color: #800080; font-weight: bold\"> nan% </span>│<span style=\"color: #800080; text-decoration-color: #800080; font-weight: bold\"> nan% </span>│<span style=\"color: #800080; text-decoration-color: #800080; font-weight: bold\"> nan% </span>│<span style=\"color: #000080; text-decoration-color: #000080; font-weight: bold\"> nan% </span>│<span style=\"color: #000080; text-decoration-color: #000080; font-weight: bold\">  nan% </span>│<span style=\"color: #000080; text-decoration-color: #000080; font-weight: bold\">   nan% </span>│<span style=\"color: #008000; text-decoration-color: #008000; font-weight: bold\"> nan% </span>│<span style=\"color: #008000; text-decoration-color: #008000; font-weight: bold\"> nan% </span>│<span style=\"color: #008000; text-decoration-color: #008000; font-weight: bold\"> nan% </span>│\n",
       "└───────┴──────────┴───────┴───────┴──────┴──────┴──────┴──────┴───────┴────────┴──────┴──────┴──────┘\n",
       "</pre>\n"
      ],
      "text/plain": [
       "\u001b[3m                                           COCO Evaluation                                            \u001b[0m\n",
       "┏━━━━━━━┳━━━━━━━━━━┳━━━━━━━┳━━━━━━━┳━━━━━━┳━━━━━━┳━━━━━━┳━━━━━━┳━━━━━━━┳━━━━━━━━┳━━━━━━┳━━━━━━┳━━━━━━┓\n",
       "┃\u001b[1m \u001b[0m\u001b[1mLabel\u001b[0m\u001b[1m \u001b[0m┃\u001b[1;31m \u001b[0m\u001b[1;31mAP 50:95\u001b[0m\u001b[1;31m \u001b[0m┃\u001b[1;31m \u001b[0m\u001b[1;31mAP 50\u001b[0m\u001b[1;31m \u001b[0m┃\u001b[1;31m \u001b[0m\u001b[1;31mAP 75\u001b[0m\u001b[1;31m \u001b[0m┃\u001b[1;35m \u001b[0m\u001b[1;35mAP S\u001b[0m\u001b[1;35m \u001b[0m┃\u001b[1;35m \u001b[0m\u001b[1;35mAP M\u001b[0m\u001b[1;35m \u001b[0m┃\u001b[1;35m \u001b[0m\u001b[1;35mAP L\u001b[0m\u001b[1;35m \u001b[0m┃\u001b[1;34m \u001b[0m\u001b[1;34mAR 1\u001b[0m\u001b[1;34m \u001b[0m┃\u001b[1;34m \u001b[0m\u001b[1;34mAR 10\u001b[0m\u001b[1;34m \u001b[0m┃\u001b[1;34m \u001b[0m\u001b[1;34mAR 100\u001b[0m\u001b[1;34m \u001b[0m┃\u001b[1;32m \u001b[0m\u001b[1;32mAR S\u001b[0m\u001b[1;32m \u001b[0m┃\u001b[1;32m \u001b[0m\u001b[1;32mAR M\u001b[0m\u001b[1;32m \u001b[0m┃\u001b[1;32m \u001b[0m\u001b[1;32mAR L\u001b[0m\u001b[1;32m \u001b[0m┃\n",
       "┡━━━━━━━╇━━━━━━━━━━╇━━━━━━━╇━━━━━━━╇━━━━━━╇━━━━━━╇━━━━━━╇━━━━━━╇━━━━━━━╇━━━━━━━━╇━━━━━━╇━━━━━━╇━━━━━━┩\n",
       "├───────┼──────────┼───────┼───────┼──────┼──────┼──────┼──────┼───────┼────────┼──────┼──────┼──────┤\n",
       "│\u001b[1m \u001b[0m\u001b[1mTotal\u001b[0m\u001b[1m \u001b[0m│\u001b[1;31m \u001b[0m\u001b[1;31m    nan%\u001b[0m\u001b[1;31m \u001b[0m│\u001b[1;31m \u001b[0m\u001b[1;31m nan%\u001b[0m\u001b[1;31m \u001b[0m│\u001b[1;31m \u001b[0m\u001b[1;31m nan%\u001b[0m\u001b[1;31m \u001b[0m│\u001b[1;35m \u001b[0m\u001b[1;35mnan%\u001b[0m\u001b[1;35m \u001b[0m│\u001b[1;35m \u001b[0m\u001b[1;35mnan%\u001b[0m\u001b[1;35m \u001b[0m│\u001b[1;35m \u001b[0m\u001b[1;35mnan%\u001b[0m\u001b[1;35m \u001b[0m│\u001b[1;34m \u001b[0m\u001b[1;34mnan%\u001b[0m\u001b[1;34m \u001b[0m│\u001b[1;34m \u001b[0m\u001b[1;34m nan%\u001b[0m\u001b[1;34m \u001b[0m│\u001b[1;34m \u001b[0m\u001b[1;34m  nan%\u001b[0m\u001b[1;34m \u001b[0m│\u001b[1;32m \u001b[0m\u001b[1;32mnan%\u001b[0m\u001b[1;32m \u001b[0m│\u001b[1;32m \u001b[0m\u001b[1;32mnan%\u001b[0m\u001b[1;32m \u001b[0m│\u001b[1;32m \u001b[0m\u001b[1;32mnan%\u001b[0m\u001b[1;32m \u001b[0m│\n",
       "└───────┴──────────┴───────┴───────┴──────┴──────┴──────┴──────┴───────┴────────┴──────┴──────┴──────┘\n"
      ]
     },
     "metadata": {},
     "output_type": "display_data"
    }
   ],
   "source": []
  },
  {
   "cell_type": "code",
   "execution_count": null,
   "id": "331df9ec",
   "metadata": {},
   "outputs": [],
   "source": []
  }
 ],
 "metadata": {
  "kernelspec": {
   "display_name": "py310",
   "language": "python",
   "name": "python3"
  },
  "language_info": {
   "codemirror_mode": {
    "name": "ipython",
    "version": 3
   },
   "file_extension": ".py",
   "mimetype": "text/x-python",
   "name": "python",
   "nbconvert_exporter": "python",
   "pygments_lexer": "ipython3",
   "version": "3.10.13"
  }
 },
 "nbformat": 4,
 "nbformat_minor": 5
}
