{
 "cells": [
  {
   "cell_type": "code",
   "execution_count": 1,
   "metadata": {},
   "outputs": [],
   "source": [
    "import os\n",
    "import sys\n",
    "import numpy as np\n",
    "import yaml\n",
    "import pandas as pd\n",
    "import cv2\n",
    "import matplotlib.pyplot as plt\n",
    "import matplotlib.patches as patches\n",
    "import random"
   ]
  },
  {
   "cell_type": "code",
   "execution_count": 2,
   "metadata": {},
   "outputs": [
    {
     "name": "stdout",
     "output_type": "stream",
     "text": [
      "{0: 'rbc_parasitized_F_T', 1: 'rbc_parasitized_F_S', 2: 'rbc_parasitized_F_G', 3: 'rbc_unparasitized', 4: 'rbc_difficult'}\n"
     ]
    }
   ],
   "source": [
    "with open('datasets/final_malaria_5_classess/data.yaml', 'r') as file:\n",
    "    yaml_data = yaml.safe_load(file)\n",
    "\n",
    "# In ra dữ liệu\n",
    "print(yaml_data['names'])"
   ]
  },
  {
   "cell_type": "markdown",
   "metadata": {},
   "source": [
    "thống kê theo instance"
   ]
  },
  {
   "cell_type": "code",
   "execution_count": 3,
   "metadata": {},
   "outputs": [
    {
     "name": "stdout",
     "output_type": "stream",
     "text": [
      "['rbc_parasitized_F_T', 'rbc_parasitized_F_S', 'rbc_parasitized_F_G', 'rbc_unparasitized', 'rbc_difficult']\n"
     ]
    },
    {
     "data": {
      "text/plain": [
       "{'rbc_parasitized_F_T': 0,\n",
       " 'rbc_parasitized_F_S': 0,\n",
       " 'rbc_parasitized_F_G': 0,\n",
       " 'rbc_unparasitized': 0,\n",
       " 'rbc_difficult': 0}"
      ]
     },
     "execution_count": 3,
     "metadata": {},
     "output_type": "execute_result"
    }
   ],
   "source": [
    "class_name = list(yaml_data['names'].values())\n",
    "print(class_name)\n",
    "train_dict = {label: 0 for label in class_name}\n",
    "val_dict = {label: 0 for label in class_name}\n",
    "test_dict = {label: 0 for label in class_name}\n",
    "test_dict"
   ]
  },
  {
   "cell_type": "code",
   "execution_count": 4,
   "metadata": {},
   "outputs": [],
   "source": [
    "def count_instance(path, set_dict):\n",
    "    for filename in os.listdir(path):\n",
    "        cnt_ids = [0] * len(class_name)\n",
    "        file_path = os.path.join(path, filename)\n",
    "\n",
    "        with open(file_path, 'r') as file:\n",
    "            for line in file:\n",
    "                # Tách dòng thành các phần\n",
    "                parts = line.strip().split()\n",
    "                if parts:  \n",
    "                    first_number = parts[0] \n",
    "                    cls_id = int(first_number)\n",
    "                    cnt_ids[cls_id] += 1 \n",
    "\n",
    "        for i in range(len(cnt_ids)):\n",
    "            cls_name = class_name[i]\n",
    "            set_dict[cls_name] += cnt_ids[i]"
   ]
  },
  {
   "cell_type": "code",
   "execution_count": 5,
   "metadata": {},
   "outputs": [],
   "source": [
    "count_instance('datasets/final_malaria_5_classess/train/labels', train_dict)\n",
    "count_instance('datasets/final_malaria_5_classess/val/labels', val_dict)\n",
    "count_instance('datasets/final_malaria_5_classess/test/labels', test_dict)"
   ]
  },
  {
   "cell_type": "code",
   "execution_count": 6,
   "metadata": {},
   "outputs": [
    {
     "name": "stdout",
     "output_type": "stream",
     "text": [
      "{'rbc_parasitized_F_T': 599, 'rbc_parasitized_F_S': 213, 'rbc_parasitized_F_G': 112, 'rbc_unparasitized': 29834, 'rbc_difficult': 48}\n",
      "{'rbc_parasitized_F_T': 91, 'rbc_parasitized_F_S': 27, 'rbc_parasitized_F_G': 16, 'rbc_unparasitized': 4279, 'rbc_difficult': 12}\n",
      "{'rbc_parasitized_F_T': 177, 'rbc_parasitized_F_S': 59, 'rbc_parasitized_F_G': 45, 'rbc_unparasitized': 8746, 'rbc_difficult': 15}\n"
     ]
    }
   ],
   "source": [
    "print(train_dict)\n",
    "print(val_dict)\n",
    "print(test_dict)"
   ]
  },
  {
   "cell_type": "code",
   "execution_count": 7,
   "metadata": {},
   "outputs": [
    {
     "name": "stdout",
     "output_type": "stream",
     "text": [
      "Dữ liệu đã được lưu vào file img_instance_statistics.csv.\n"
     ]
    }
   ],
   "source": [
    "df_train = pd.DataFrame(list(train_dict.items()), columns=['Class', 'Train instance Count'])\n",
    "df_val = pd.DataFrame(list(val_dict.items()), columns=['Class', 'Validation instance Count'])\n",
    "df_test = pd.DataFrame(list(test_dict.items()), columns=['Class', 'Test instance Count'])\n",
    "\n",
    "df_combined = df_train.merge(df_val, on='Class').merge(df_test, on='Class')\n",
    "\n",
    "file_path = 'img_instance_statistics.csv'  # Đường dẫn đến file Excel bạn muốn lưu\n",
    "df_combined.to_csv(file_path, index=False)\n",
    "\n",
    "print(f\"Dữ liệu đã được lưu vào file {file_path}.\")"
   ]
  },
  {
   "cell_type": "markdown",
   "metadata": {},
   "source": [
    "kích thước mean và std của từng ảnh"
   ]
  },
  {
   "cell_type": "code",
   "execution_count": 8,
   "metadata": {},
   "outputs": [],
   "source": [
    "def img_sizes(folder_path):\n",
    "    image_sizes = []\n",
    "\n",
    "    # Duyệt qua tất cả các file ảnh trong thư mục\n",
    "    for filename in os.listdir(folder_path):\n",
    "        file_path = os.path.join(folder_path, filename)\n",
    "        \n",
    "        # Đọc ảnh\n",
    "        image = cv2.imread(file_path)\n",
    "        \n",
    "        if image is not None:\n",
    "            height, width = image.shape[:2]\n",
    "            image_sizes.append((height, width))\n",
    "\n",
    "    # Chuyển danh sách kích thước sang NumPy array để tính toán\n",
    "    image_sizes = np.array(image_sizes)\n",
    "\n",
    "    # Tính kích thước trung bình và độ lệch chuẩn theo từng chiều (height, width)\n",
    "    mean_size = np.mean(image_sizes, axis=0)\n",
    "    std_size = np.std(image_sizes, axis=0)\n",
    "    return mean_size, std_size\n"
   ]
  },
  {
   "cell_type": "code",
   "execution_count": 9,
   "metadata": {},
   "outputs": [
    {
     "name": "stdout",
     "output_type": "stream",
     "text": [
      "[2048. 3072.]\n",
      "[0. 0.]\n"
     ]
    }
   ],
   "source": [
    "mean_size, std_size = img_sizes('final_malaria_full_class/train/images')\n",
    "print(mean_size)\n",
    "print(std_size)"
   ]
  },
  {
   "cell_type": "markdown",
   "metadata": {},
   "source": [
    "Width, Heigh statistics"
   ]
  },
  {
   "cell_type": "code",
   "execution_count": 11,
   "metadata": {},
   "outputs": [
    {
     "data": {
      "text/plain": [
       "{'rbc_parasitized_F_TA': [[], [], 0, 0, 0, 0, 0, 0, 0, 0],\n",
       " 'rbc_parasitized_F_TJ': [[], [], 0, 0, 0, 0, 0, 0, 0, 0],\n",
       " 'rbc_parasitized_F_S1': [[], [], 0, 0, 0, 0, 0, 0, 0, 0],\n",
       " 'rbc_parasitized_F_S2': [[], [], 0, 0, 0, 0, 0, 0, 0, 0],\n",
       " 'rbc_parasitized_F_G1': [[], [], 0, 0, 0, 0, 0, 0, 0, 0],\n",
       " 'rbc_parasitized_F_G2-5': [[], [], 0, 0, 0, 0, 0, 0, 0, 0],\n",
       " 'rbc_unparasitized': [[], [], 0, 0, 0, 0, 0, 0, 0, 0],\n",
       " 'rbc_unparasitized_dead_kernel': [[], [], 0, 0, 0, 0, 0, 0, 0, 0],\n",
       " 'rbc_unparasitized_artefact': [[], [], 0, 0, 0, 0, 0, 0, 0, 0],\n",
       " 'rbc_difficult': [[], [], 0, 0, 0, 0, 0, 0, 0, 0],\n",
       " 'OOC_F_Merozoit': [[], [], 0, 0, 0, 0, 0, 0, 0, 0],\n",
       " 'OOC_artefact_and_other_cell': [[], [], 0, 0, 0, 0, 0, 0, 0, 0]}"
      ]
     },
     "execution_count": 11,
     "metadata": {},
     "output_type": "execute_result"
    }
   ],
   "source": [
    "wh_train = {label: [[], [], 0, 0, 0, 0, 0, 0, 0, 0] for label in class_name} \n",
    "# [w] [h] mean_w, mean_h, std_w, std_h, min_w, min_h, max_w, max_h\n",
    "wh_val = {label: [[], [], 0, 0, 0, 0, 0, 0, 0, 0] for label in class_name}\n",
    "wh_test = {label: [[], [], 0, 0, 0, 0, 0, 0, 0, 0] for label in class_name}\n",
    "wh_train"
   ]
  },
  {
   "cell_type": "code",
   "execution_count": 12,
   "metadata": {},
   "outputs": [],
   "source": [
    "def size_statistics(folder_path, wh_dict):\n",
    "    for filename in os.listdir(folder_path):\n",
    "        file_path = os.path.join(folder_path, filename)\n",
    "\n",
    "        with open(file_path, 'r') as file:\n",
    "            for line in file:\n",
    "                parts = line.strip().split()\n",
    "                if parts:  \n",
    "                    cls_id = int(parts[0])\n",
    "                    w, h = float(parts[3]), float(parts[4])\n",
    "                    \n",
    "                    cls_name = class_name[cls_id]\n",
    "                    wh_dict[cls_name][0].append(w)\n",
    "                    wh_dict[cls_name][1].append(h)\n",
    "    \n",
    "    for key, value in wh_dict.items():\n",
    "        w_array = np.array(value[0])\n",
    "        h_array = np.array(value[1])\n",
    "        if w_array.any():\n",
    "            w_mean = np.mean(w_array)\n",
    "            w_std = np.std(w_array)\n",
    "\n",
    "            h_mean = np.mean(h_array)\n",
    "            h_std = np.std(h_array)\n",
    "\n",
    "            w_min = np.min(w_array)\n",
    "            h_min = np.min(h_array)\n",
    "\n",
    "            w_max = np.max(w_array)\n",
    "            h_max = np.max(h_array)\n",
    "\n",
    "        else:\n",
    "            w_mean, w_std, h_mean, h_std, w_min, h_min, w_max, h_max = 0, 0, 0, 0, 0, 0, 0, 0\n",
    "\n",
    "        wh_dict[key][2] , wh_dict[key][3] = w_mean, w_std\n",
    "        wh_dict[key][4] , wh_dict[key][5] = h_mean, h_std\n",
    "\n",
    "        wh_dict[key][6] , wh_dict[key][7] = w_min, h_min\n",
    "        wh_dict[key][8] , wh_dict[key][9] = w_max, h_max\n",
    "\n",
    "\n"
   ]
  },
  {
   "cell_type": "code",
   "execution_count": 13,
   "metadata": {},
   "outputs": [],
   "source": [
    "size_statistics('final_malaria_full_class/train/labels', wh_train)\n",
    "size_statistics('final_malaria_full_class/val/labels', wh_val)\n",
    "size_statistics('final_malaria_full_class/test/labels', wh_test)"
   ]
  },
  {
   "cell_type": "code",
   "execution_count": 16,
   "metadata": {},
   "outputs": [
    {
     "data": {
      "text/plain": [
       "[0.019830684684684685,\n",
       " 0.015001844298920207,\n",
       " 0.027391675675675676,\n",
       " 0.01658464817676474,\n",
       " 0.005677,\n",
       " 0.007529,\n",
       " 0.126709,\n",
       " 0.125195]"
      ]
     },
     "execution_count": 16,
     "metadata": {},
     "output_type": "execute_result"
    }
   ],
   "source": [
    "wh_train['OOC_artefact_and_other_cell'][2:]"
   ]
  },
  {
   "cell_type": "code",
   "execution_count": 17,
   "metadata": {},
   "outputs": [],
   "source": [
    "df_train = pd.DataFrame.from_dict(\n",
    "    {label: values[2:] for label, values in wh_train.items()},\n",
    "    orient='index',\n",
    "    columns=['mean_w', 'std_w', 'mean_h', 'std_h', 'min_w', 'min_h', 'max_w', 'max_h']\n",
    ")\n",
    "\n",
    "df_val = pd.DataFrame.from_dict(\n",
    "    {label: values[2:] for label, values in wh_val.items()},\n",
    "    orient='index',\n",
    "    columns=['mean_w', 'std_w', 'mean_h', 'std_h', 'min_w', 'min_h', 'max_w', 'max_h']\n",
    ")\n",
    "\n",
    "df_test = pd.DataFrame.from_dict(\n",
    "    {label: values[2:] for label, values in wh_test.items()},\n",
    "    orient='index',\n",
    "    columns=['mean_w', 'std_w', 'mean_h', 'std_h', 'min_w', 'min_h', 'max_w', 'max_h']\n",
    ")\n",
    "\n",
    "df_train.to_csv('train_boxes.csv', index=True)\n",
    "df_val.to_csv('val_boxes.csv', index=True)\n",
    "df_test.to_csv('test_boxes.csv', index=True)\n"
   ]
  },
  {
   "cell_type": "code",
   "execution_count": 86,
   "metadata": {},
   "outputs": [
    {
     "data": {
      "image/png": "[encoded data removed]",
      "text/plain": [
       "<Figure size 800x800 with 1 Axes>"
      ]
     },
     "metadata": {},
     "output_type": "display_data"
    }
   ],
   "source": [
    "# Kích thước relative bounding box\n",
    "sizes = [0.01, 0.02, 0.05, 0.1] * 10\n",
    "# Danh sách màu sắc tương ứng với mỗi kích thước\n",
    "colors = ['skyblue', 'lightgreen', 'salmon', '#ffff00'] * 10\n",
    "\n",
    "# Tạo một đồ thị mới\n",
    "fig, ax = plt.subplots(figsize=(8, 8))  # Tăng chiều cao của đồ thị\n",
    "\n",
    "# Danh sách để lưu tọa độ hình chữ nhật đã vẽ\n",
    "rectangles = []\n",
    "\n",
    "# Vẽ hình chữ nhật cho từng kích thước\n",
    "for size, color in zip(sizes, colors):\n",
    "    # Tìm tọa độ ngẫu nhiên cho hình chữ nhật\n",
    "    while True:\n",
    "        x_start = random.uniform(0, 1 - size)  # Đảm bảo hình chữ nhật nằm trong phạm vi\n",
    "        y_start = random.uniform(0, 1 - size)  # Đảm bảo hình chữ nhật nằm trong phạm vi\n",
    "        \n",
    "        # Kiểm tra xem hình chữ nhật có chồng chéo với bất kỳ hình nào đã vẽ trước đó không\n",
    "        overlap = False\n",
    "        for rect in rectangles:\n",
    "            if (x_start < rect[0] + rect[2] and\n",
    "                x_start + size > rect[0] and\n",
    "                y_start < rect[1] + rect[3] and\n",
    "                y_start + size > rect[1]):\n",
    "                overlap = True\n",
    "                break\n",
    "        \n",
    "        # Nếu không chồng chéo, thoát khỏi vòng lặp\n",
    "        if not overlap:\n",
    "            break\n",
    "\n",
    "    # Vẽ hình chữ nhật với chiều rộng và chiều cao theo kích thước\n",
    "    rect = patches.Rectangle((x_start, y_start), size, size, color=color, label=f'Size {size:.2f}')\n",
    "    ax.add_patch(rect)\n",
    "    \n",
    "    # Lưu tọa độ của hình chữ nhật đã vẽ\n",
    "    rectangles.append((x_start, y_start, size, size))\n",
    "\n",
    "# Thiết lập giới hạn trục\n",
    "ax.set_xlim(0, 1)\n",
    "ax.set_ylim(0, 1)\n",
    "\n",
    "handles, labels = ax.get_legend_handles_labels()\n",
    "by_label = dict(zip(labels, handles))\n",
    "plt.legend(by_label.values(), by_label.keys(), loc='upper right')\n",
    "# Thêm tiêu đề và nhãn\n",
    "plt.title('Relative Bounding Box Sizes')\n",
    "plt.xlabel('Width (normalized)')\n",
    "plt.ylabel('Height (normalized)')\n",
    "\n",
    "# Thêm lưới\n",
    "plt.grid()\n",
    "\n",
    "# Hiện thị đồ thị\n",
    "plt.tight_layout()  # Tự động điều chỉnh bố cục\n",
    "plt.show()"
   ]
  },
  {
   "cell_type": "code",
   "execution_count": null,
   "metadata": {},
   "outputs": [],
   "source": []
  }
 ],
 "metadata": {
  "kernelspec": {
   "display_name": "py310",
   "language": "python",
   "name": "python3"
  },
  "language_info": {
   "codemirror_mode": {
    "name": "ipython",
    "version": 3
   },
   "file_extension": ".py",
   "mimetype": "text/x-python",
   "name": "python",
   "nbconvert_exporter": "python",
   "pygments_lexer": "ipython3",
   "version": "3.10.13"
  }
 },
 "nbformat": 4,
 "nbformat_minor": 2
}
