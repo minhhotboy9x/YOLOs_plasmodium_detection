{
 "cells": [
  {
   "cell_type": "code",
   "execution_count": 3,
   "metadata": {},
   "outputs": [],
   "source": [
    "import os\n",
    "import numpy as np\n",
    "import yaml\n",
    "from copy import deepcopy\n",
    "from ultralytics.engine.results import Boxes, Results\n",
    "from ultralytics.data.utils import check_det_dataset, img2label_paths\n",
    "from PIL import Image\n",
    "import numpy as np\n",
    "import cv2\n",
    "import torch\n"
   ]
  },
  {
   "cell_type": "code",
   "execution_count": 4,
   "metadata": {},
   "outputs": [],
   "source": [
    "def map_yaml_values(src_yaml_path, tgt_yaml_path, mapped_label):\n",
    "    # Bước 1: Load dữ liệu từ tệp YAML nguồn\n",
    "    with open(src_yaml_path, 'r') as file:\n",
    "        data = yaml.safe_load(file)\n",
    "\n",
    "    # Bước 2: Kiểm tra và ánh xạ các giá trị trong 'names'\n",
    "    if 'names' not in data:\n",
    "        raise KeyError(\"Tệp YAML không chứa khóa 'names'.\")\n",
    "\n",
    "    updated_names = {}\n",
    "    for key, value in data['names'].items():\n",
    "        key = int(key)  # Đảm bảo khóa là số nguyên\n",
    "        if key in mapped_label:\n",
    "            new_key, new_value = mapped_label[key]\n",
    "            updated_names[new_key] = new_value\n",
    "\n",
    "    # Bước 3: Thay thế giá trị của 'names' bằng danh sách đã cập nhật\n",
    "    data['names'] = updated_names\n",
    "\n",
    "    os.makedirs(os.path.dirname(tgt_yaml_path), exist_ok=True)\n",
    "\n",
    "    # Bước 4: Ghi dữ liệu mới vào tệp YAML đích\n",
    "    with open(tgt_yaml_path, 'w') as file:\n",
    "        yaml.dump(data, file, default_flow_style=False, allow_unicode=True)\n",
    "\n",
    "    print(f\"Dữ liệu đã được ánh xạ và lưu tại: {tgt_yaml_path}\")\n",
    "\n",
    "\n",
    "def convert_label(src_label_folder, tgt_label_folder, map_label):\n",
    "    os.makedirs(tgt_label_folder, exist_ok=True)\n",
    "    # Duyệt qua từng file trong folder\n",
    "    for filename in os.listdir(src_label_folder):\n",
    "        if filename.endswith(\".txt\"):\n",
    "            file_path = os.path.join(src_label_folder, filename)\n",
    "            \n",
    "            # Đọc nội dung của file label\n",
    "            with open(file_path, \"r\") as f:\n",
    "                lines = f.readlines()\n",
    "\n",
    "            # Cập nhật class_id trong mỗi dòng\n",
    "            updated_lines = []\n",
    "            for line in lines:\n",
    "                components = line.strip().split()\n",
    "                class_id = int(components[0])\n",
    "                if class_id in map_label:\n",
    "                    # Thay đổi class_id theo map mới\n",
    "                    components[0] = str(map_label[class_id][0])\n",
    "                    updated_lines.append(\" \".join(components) + \"\\n\")\n",
    "\n",
    "            # Ghi đè lại file với class mới\n",
    "            with open(os.path.join(tgt_label_folder, filename), \"w\") as f:\n",
    "                f.writelines(updated_lines)\n",
    "\n",
    "    print(\"Cập nhật class_id hoàn tất.\")"
   ]
  },
  {
   "cell_type": "code",
   "execution_count": null,
   "metadata": {},
   "outputs": [],
   "source": [
    "# mapped_label = {\n",
    "#     0: (1, 'TA'),\n",
    "#     1: (0, 'TJ'),\n",
    "#     2: (2, 'S'),\n",
    "#     3: (2, 'S'),\n",
    "#     4: (3, 'G'),\n",
    "#     5: (3, 'G'),\n",
    "#     6: (4, 'Healthy'),\n",
    "#     7: (5, 'Others'),\n",
    "#     8: (5, 'Others'),\n",
    "#     9: (6, 'Difficult'),\n",
    "# }\n",
    "\n",
    "# mapped_label = {\n",
    "#     0: (1, 'TA'),\n",
    "#     1: (0, 'TJ'),\n",
    "#     2: (2, 'S'),\n",
    "#     3: (2, 'S'),\n",
    "#     4: (3, 'G'),\n",
    "#     5: (3, 'G'),\n",
    "#     6: (4, 'unparasitized'),\n",
    "#     7: (4, 'unparasitized'),\n",
    "#     8: (4, 'unparasitized'),\n",
    "# }\n",
    "\n",
    "mapped_label = {\n",
    "    0: (1, 'TA'),\n",
    "    1: (0, 'TJ'),\n",
    "    2: (2, 'S1'),\n",
    "    3: (3, 'S2'),\n",
    "    4: (4, 'G1'),\n",
    "    5: (5, 'G25'),\n",
    "    6: (6, 'unparasitized'),\n",
    "    7: (6, 'unparasitized'),\n",
    "    8: (6, 'unparasitized'),\n",
    "    9: (7, 'Difficult'),\n",
    "}\n",
    "\n",
    "# mapped_label = {\n",
    "#     0: (1, 'TA'),\n",
    "#     1: (0, 'TJ'),\n",
    "#     2: (2, 'S1'),\n",
    "#     3: (3, 'S2'),\n",
    "#     4: (4, 'G1'),\n",
    "#     5: (5, 'G2-5'),\n",
    "#     6: (6, 'Healthy'),\n",
    "#     7: (7, 'Others'),\n",
    "#     8: (7, 'Others'),\n",
    "#     9: (8, 'Difficult'),\n",
    "# }"
   ]
  },
  {
   "cell_type": "code",
   "execution_count": 6,
   "metadata": {},
   "outputs": [
    {
     "name": "stdout",
     "output_type": "stream",
     "text": [
      "Dữ liệu đã được ánh xạ và lưu tại: datasets/v2_malaria_PA7_5_class/data.yaml\n"
     ]
    }
   ],
   "source": [
    "# map_yaml_values('datasets/malaria_full_class_temp1/data.yaml', 'datasets/pa3_malaria_7_classes_8folds_temp1/data.yaml', mapped_label)\n",
    "# map_yaml_values('datasets/malaria_full_classes_temp3/data.yaml', 'datasets/malaria_9_classes_8_folds_temp3/data.yaml', mapped_label)\n",
    "# map_yaml_values('datasets/v2_malaria_full_class/data.yaml', 'datasets/v2_malaria_PA3_7_class_edge_filtered/data.yaml', mapped_label)\n",
    "map_yaml_values('datasets/v2_malaria_full_class/data.yaml', 'datasets/v2_malaria_PA7_5_class/data.yaml', mapped_label)\n",
    "# map_yaml_values('datasets/v2_malaria_full_class/data.yaml', 'datasets/v2_malaria_PA8_8_class/data.yaml', mapped_label)"
   ]
  },
  {
   "cell_type": "code",
   "execution_count": 7,
   "metadata": {},
   "outputs": [
    {
     "name": "stdout",
     "output_type": "stream",
     "text": [
      "Cập nhật class_id hoàn tất.\n",
      "Cập nhật class_id hoàn tất.\n",
      "Cập nhật class_id hoàn tất.\n"
     ]
    }
   ],
   "source": [
    "convert_label('datasets/v2_malaria_full_class/train/labels',\n",
    "              'datasets/v2_malaria_PA7_5_class/train/labels',  \n",
    "              mapped_label)\n",
    "convert_label('datasets/v2_malaria_full_class/val/labels',\n",
    "              'datasets/v2_malaria_PA7_5_class/val/labels',  \n",
    "              mapped_label)\n",
    "convert_label('datasets/v2_malaria_full_class/test/labels',\n",
    "              'datasets/v2_malaria_PA7_5_class/test/labels',  \n",
    "              mapped_label)"
   ]
  },
  {
   "cell_type": "code",
   "execution_count": 11,
   "metadata": {},
   "outputs": [
    {
     "name": "stdout",
     "output_type": "stream",
     "text": [
      "Cập nhật class_id hoàn tất.\n"
     ]
    }
   ],
   "source": [
    "convert_label('datasets/v2_malaria_full_class_edge_filtered/train/labels',\n",
    "              'datasets/v2_malaria_PA3_7_class_edge_filtered/train/labels',  \n",
    "              mapped_label)"
   ]
  },
  {
   "cell_type": "code",
   "execution_count": 12,
   "metadata": {},
   "outputs": [
    {
     "name": "stdout",
     "output_type": "stream",
     "text": [
      "Cập nhật class_id hoàn tất.\n"
     ]
    }
   ],
   "source": [
    "convert_label('datasets/v2_malaria_full_class_edge_filtered/val/labels',\n",
    "              'datasets/v2_malaria_PA3_7_class_edge_filtered/val/labels',  \n",
    "              mapped_label)"
   ]
  },
  {
   "cell_type": "code",
   "execution_count": 13,
   "metadata": {},
   "outputs": [
    {
     "name": "stdout",
     "output_type": "stream",
     "text": [
      "Cập nhật class_id hoàn tất.\n"
     ]
    }
   ],
   "source": [
    "convert_label('datasets/v2_malaria_full_class_edge_filtered/test/labels',\n",
    "              'datasets/v2_malaria_PA3_7_class_edge_filtered/test/labels',  \n",
    "              mapped_label)"
   ]
  },
  {
   "cell_type": "code",
   "execution_count": 6,
   "metadata": {},
   "outputs": [],
   "source": [
    "\n",
    "def draw_gt(path, data_yaml_path):\n",
    "    image = Image.open(path)\n",
    "    image_np = np.array(image).astype(np.uint8)\n",
    "    image_np = cv2.cvtColor(image_np, cv2.COLOR_RGB2BGR)\n",
    "\n",
    "    data_yaml = check_det_dataset(data_yaml_path)\n",
    "    \n",
    "    img_height, img_width = image_np.shape[:2]\n",
    "    label_path = img2label_paths([path.replace(\"/\", \"\\\\\")])[0]\n",
    "    boxes_data = []\n",
    "    with open(label_path, 'r') as f:\n",
    "        # Đọc từng dòng\n",
    "        for line in f:\n",
    "            # Tách các giá trị trong dòng (theo khoảng trắng)\n",
    "            values = line.split()\n",
    "            \n",
    "            # Lấy class_id, x_center, y_center, width, height\n",
    "            class_id = int(values[0])\n",
    "            x_center = float(values[1])\n",
    "            y_center = float(values[2])\n",
    "            width = float(values[3])\n",
    "            height = float(values[4])\n",
    "\n",
    "            x_min = int((x_center - width / 2) * img_width)\n",
    "            y_min = int((y_center - height / 2) * img_height)\n",
    "            x_max = int((x_center + width / 2) * img_width)\n",
    "            y_max = int((y_center + height / 2) * img_height)\n",
    "            box_tensor = torch.tensor([x_min, y_min, x_max, y_max, 1.0, class_id])\n",
    "            boxes_data.append(box_tensor)\n",
    "\n",
    "    boxes_data = torch.stack(boxes_data)\n",
    "    # print(boxes_data.ndim)\n",
    "    # boxes = Boxes(boxes_data, (img_height, img_width))\n",
    "    results = Results(image_np, path, data_yaml['names'], boxes=boxes_data)\n",
    "\n",
    "    # for result in results:\n",
    "    results.save_crop(save_dir=os.path.join('groundtruth', os.path.basename(path)), file_name=\"detection\")\n",
    "    results.save(os.path.join('groundtruth', os.path.basename(path), \"annotated_image.jpg\"), conf=False, line_width=4)\n",
    "    return\n",
    "\n"
   ]
  },
  {
   "cell_type": "code",
   "execution_count": 8,
   "metadata": {},
   "outputs": [],
   "source": [
    "\n",
    "path='datasets/v2_malaria_PA3_7_class_edge_filtered/test/images/068.jpg'\n",
    "data_yaml_path = 'datasets/v2_malaria_PA3_7_class_edge_filtered/data.yaml'\n",
    "draw_gt(path, data_yaml_path)"
   ]
  }
 ],
 "metadata": {
  "kernelspec": {
   "display_name": "Python 3",
   "language": "python",
   "name": "python3"
  },
  "language_info": {
   "codemirror_mode": {
    "name": "ipython",
    "version": 3
   },
   "file_extension": ".py",
   "mimetype": "text/x-python",
   "name": "python",
   "nbconvert_exporter": "python",
   "pygments_lexer": "ipython3",
   "version": "3.10.13"
  }
 },
 "nbformat": 4,
 "nbformat_minor": 2
}
